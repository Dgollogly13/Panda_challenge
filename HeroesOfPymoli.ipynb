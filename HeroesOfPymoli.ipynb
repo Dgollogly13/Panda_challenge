{
 "cells": [
  {
   "cell_type": "code",
   "execution_count": 229,
   "metadata": {},
   "outputs": [],
   "source": [
    "# Dependencies and Setup\n",
    "import pandas as pd\n",
    "\n",
    "# File to Load \n",
    "file_to_load = \"Resources/purchase_data.csv\"\n",
    "\n",
    "# Read Purchasing File and store into Pandas data frame\n",
    "purchase_data = pd.read_csv(file_to_load)"
   ]
  },
  {
   "cell_type": "markdown",
   "metadata": {},
   "source": [
    "## Player Count"
   ]
  },
  {
   "cell_type": "markdown",
   "metadata": {},
   "source": [
    "* Display the total number of players\n"
   ]
  },
  {
   "cell_type": "code",
   "execution_count": 230,
   "metadata": {},
   "outputs": [
    {
     "data": {
      "text/plain": [
       "576"
      ]
     },
     "execution_count": 230,
     "metadata": {},
     "output_type": "execute_result"
    }
   ],
   "source": [
    "player_count = purchase_data['SN'].value_counts()\n",
    "player_count_final = player_count.count()\n",
    "player_count_final"
   ]
  },
  {
   "cell_type": "markdown",
   "metadata": {},
   "source": [
    "## Purchasing Analysis (Total)"
   ]
  },
  {
   "cell_type": "markdown",
   "metadata": {},
   "source": [
    "* Run basic calculations to obtain number of unique items, average price, etc.\n",
    "\n",
    "\n",
    "* Create a summary data frame to hold the results\n",
    "\n",
    "\n",
    "* Optional: give the displayed data cleaner formatting\n",
    "\n",
    "\n",
    "* Display the summary data frame\n"
   ]
  },
  {
   "cell_type": "code",
   "execution_count": 231,
   "metadata": {
    "scrolled": true
   },
   "outputs": [],
   "source": [
    "unique_items = purchase_data['Item ID'].value_counts()\n",
    "unique_items = unique_items.count()"
   ]
  },
  {
   "cell_type": "code",
   "execution_count": 232,
   "metadata": {},
   "outputs": [],
   "source": [
    "average_price = purchase_data['Price'].mean()\n",
    "average_price = round(average_price, 2)"
   ]
  },
  {
   "cell_type": "code",
   "execution_count": 233,
   "metadata": {},
   "outputs": [],
   "source": [
    "number_purchase = purchase_data['Item ID'].count()"
   ]
  },
  {
   "cell_type": "code",
   "execution_count": 234,
   "metadata": {},
   "outputs": [],
   "source": [
    "total_revenue = purchase_data['Price'].sum()"
   ]
  },
  {
   "cell_type": "code",
   "execution_count": 235,
   "metadata": {},
   "outputs": [],
   "source": [
    "purchasing_analysis_df = pd.DataFrame({\"Unique Items\": unique_items,\n",
    "                                      \"Average Price\": [average_price],\n",
    "                                      \"Number Purchase\": [number_purchase],\n",
    "                                      \"Total Revenue\": [total_revenue]})"
   ]
  },
  {
   "cell_type": "code",
   "execution_count": 236,
   "metadata": {},
   "outputs": [
    {
     "data": {
      "text/html": [
       "<div>\n",
       "<style scoped>\n",
       "    .dataframe tbody tr th:only-of-type {\n",
       "        vertical-align: middle;\n",
       "    }\n",
       "\n",
       "    .dataframe tbody tr th {\n",
       "        vertical-align: top;\n",
       "    }\n",
       "\n",
       "    .dataframe thead th {\n",
       "        text-align: right;\n",
       "    }\n",
       "</style>\n",
       "<table border=\"1\" class=\"dataframe\">\n",
       "  <thead>\n",
       "    <tr style=\"text-align: right;\">\n",
       "      <th></th>\n",
       "      <th>Unique Items</th>\n",
       "      <th>Average Price</th>\n",
       "      <th>Number Purchase</th>\n",
       "      <th>Total Revenue</th>\n",
       "    </tr>\n",
       "  </thead>\n",
       "  <tbody>\n",
       "    <tr>\n",
       "      <th>0</th>\n",
       "      <td>183</td>\n",
       "      <td>$3.05</td>\n",
       "      <td>780</td>\n",
       "      <td>$2,379.77</td>\n",
       "    </tr>\n",
       "  </tbody>\n",
       "</table>\n",
       "</div>"
      ],
      "text/plain": [
       "   Unique Items Average Price  Number Purchase Total Revenue\n",
       "0           183         $3.05              780     $2,379.77"
      ]
     },
     "execution_count": 236,
     "metadata": {},
     "output_type": "execute_result"
    }
   ],
   "source": [
    "purchasing_analysis_df[\"Average Price\"] = purchasing_analysis_df[\"Average Price\"].map(\"${:,.2f}\".format)\n",
    "purchasing_analysis_df[\"Total Revenue\"] = purchasing_analysis_df[\"Total Revenue\"].map(\"${:,.2f}\".format)\n",
    "purchasing_analysis_df"
   ]
  },
  {
   "cell_type": "markdown",
   "metadata": {},
   "source": [
    "## Gender Demographics"
   ]
  },
  {
   "cell_type": "markdown",
   "metadata": {},
   "source": [
    "* Percentage and Count of Male Players\n",
    "\n",
    "\n",
    "* Percentage and Count of Female Players\n",
    "\n",
    "\n",
    "* Percentage and Count of Other / Non-Disclosed\n",
    "\n",
    "\n"
   ]
  },
  {
   "cell_type": "code",
   "execution_count": 237,
   "metadata": {},
   "outputs": [],
   "source": [
    "player_gender = purchase_data[['Gender', 'SN']].drop_duplicates()\n",
    "player_gender_final = player_gender['Gender'].value_counts()\n",
    "player_gender_percent = player_gender_final/player_count_final"
   ]
  },
  {
   "cell_type": "code",
   "execution_count": 238,
   "metadata": {},
   "outputs": [],
   "source": [
    "gender_demo_df = pd.DataFrame({\"Percent\": player_gender_percent,\n",
    "                               \"Total\": player_gender_final})"
   ]
  },
  {
   "cell_type": "code",
   "execution_count": 239,
   "metadata": {},
   "outputs": [
    {
     "data": {
      "text/html": [
       "<div>\n",
       "<style scoped>\n",
       "    .dataframe tbody tr th:only-of-type {\n",
       "        vertical-align: middle;\n",
       "    }\n",
       "\n",
       "    .dataframe tbody tr th {\n",
       "        vertical-align: top;\n",
       "    }\n",
       "\n",
       "    .dataframe thead th {\n",
       "        text-align: right;\n",
       "    }\n",
       "</style>\n",
       "<table border=\"1\" class=\"dataframe\">\n",
       "  <thead>\n",
       "    <tr style=\"text-align: right;\">\n",
       "      <th></th>\n",
       "      <th>Percent</th>\n",
       "      <th>Total</th>\n",
       "    </tr>\n",
       "  </thead>\n",
       "  <tbody>\n",
       "    <tr>\n",
       "      <th>Male</th>\n",
       "      <td>84.03%</td>\n",
       "      <td>484</td>\n",
       "    </tr>\n",
       "    <tr>\n",
       "      <th>Female</th>\n",
       "      <td>14.06%</td>\n",
       "      <td>81</td>\n",
       "    </tr>\n",
       "    <tr>\n",
       "      <th>Other / Non-Disclosed</th>\n",
       "      <td>1.91%</td>\n",
       "      <td>11</td>\n",
       "    </tr>\n",
       "  </tbody>\n",
       "</table>\n",
       "</div>"
      ],
      "text/plain": [
       "                      Percent  Total\n",
       "Male                   84.03%    484\n",
       "Female                 14.06%     81\n",
       "Other / Non-Disclosed   1.91%     11"
      ]
     },
     "execution_count": 239,
     "metadata": {},
     "output_type": "execute_result"
    }
   ],
   "source": [
    "gender_demo_df[\"Percent\"] = gender_demo_df[\"Percent\"].map(\"{:,.2%}\".format)\n",
    "gender_demo_df"
   ]
  },
  {
   "cell_type": "markdown",
   "metadata": {},
   "source": [
    "\n",
    "## Purchasing Analysis (Gender)"
   ]
  },
  {
   "cell_type": "markdown",
   "metadata": {},
   "source": [
    "* Run basic calculations to obtain purchase count, avg. purchase price, avg. purchase total per person etc. by gender\n",
    "\n",
    "\n",
    "\n",
    "\n",
    "* Create a summary data frame to hold the results\n",
    "\n",
    "\n",
    "* Optional: give the displayed data cleaner formatting\n",
    "\n",
    "\n",
    "* Display the summary data frame"
   ]
  },
  {
   "cell_type": "code",
   "execution_count": 240,
   "metadata": {},
   "outputs": [],
   "source": [
    "# groupby\n",
    "purchase_count = purchase_data.groupby('Gender')['Price'].count()\n",
    "avg_purchase = purchase_data.groupby('Gender')['Price'].mean()\n",
    "avg_purchase_final = avg_purchase.map(\"${:,.2f}\".format)\n",
    "total_purchase_value = purchase_data.groupby('Gender')['Price'].sum()\n",
    "total_purchase_value_final = total_purchase_value.map(\"${:,.2f}\".format)\n",
    "avg_total_purchase = (total_purchase_value / player_gender_final).map(\"${:,.2f}\".format)"
   ]
  },
  {
   "cell_type": "code",
   "execution_count": 241,
   "metadata": {},
   "outputs": [
    {
     "data": {
      "text/html": [
       "<div>\n",
       "<style scoped>\n",
       "    .dataframe tbody tr th:only-of-type {\n",
       "        vertical-align: middle;\n",
       "    }\n",
       "\n",
       "    .dataframe tbody tr th {\n",
       "        vertical-align: top;\n",
       "    }\n",
       "\n",
       "    .dataframe thead th {\n",
       "        text-align: right;\n",
       "    }\n",
       "</style>\n",
       "<table border=\"1\" class=\"dataframe\">\n",
       "  <thead>\n",
       "    <tr style=\"text-align: right;\">\n",
       "      <th></th>\n",
       "      <th>Purchase Count</th>\n",
       "      <th>Average Purchase Price</th>\n",
       "      <th>Total Purchase Value</th>\n",
       "      <th>Avg. Total Purchase per Person</th>\n",
       "    </tr>\n",
       "    <tr>\n",
       "      <th>Gender</th>\n",
       "      <th></th>\n",
       "      <th></th>\n",
       "      <th></th>\n",
       "      <th></th>\n",
       "    </tr>\n",
       "  </thead>\n",
       "  <tbody>\n",
       "    <tr>\n",
       "      <th>Female</th>\n",
       "      <td>113</td>\n",
       "      <td>$3.20</td>\n",
       "      <td>$361.94</td>\n",
       "      <td>$4.47</td>\n",
       "    </tr>\n",
       "    <tr>\n",
       "      <th>Male</th>\n",
       "      <td>652</td>\n",
       "      <td>$3.02</td>\n",
       "      <td>$1,967.64</td>\n",
       "      <td>$4.07</td>\n",
       "    </tr>\n",
       "    <tr>\n",
       "      <th>Other / Non-Disclosed</th>\n",
       "      <td>15</td>\n",
       "      <td>$3.35</td>\n",
       "      <td>$50.19</td>\n",
       "      <td>$4.56</td>\n",
       "    </tr>\n",
       "  </tbody>\n",
       "</table>\n",
       "</div>"
      ],
      "text/plain": [
       "                       Purchase Count Average Purchase Price  \\\n",
       "Gender                                                         \n",
       "Female                            113                  $3.20   \n",
       "Male                              652                  $3.02   \n",
       "Other / Non-Disclosed              15                  $3.35   \n",
       "\n",
       "                      Total Purchase Value Avg. Total Purchase per Person  \n",
       "Gender                                                                     \n",
       "Female                             $361.94                          $4.47  \n",
       "Male                             $1,967.64                          $4.07  \n",
       "Other / Non-Disclosed               $50.19                          $4.56  "
      ]
     },
     "execution_count": 241,
     "metadata": {},
     "output_type": "execute_result"
    }
   ],
   "source": [
    "purchase_analysis_df = pd.DataFrame({\"Purchase Count\": purchase_count,\n",
    "                                     \"Average Purchase Price\": avg_purchase_final,\n",
    "                                     \"Total Purchase Value\": total_purchase_value_final, \n",
    "                                     \"Avg. Total Purchase per Person\": avg_total_purchase\n",
    "                                    })\n",
    "purchase_analysis_df"
   ]
  },
  {
   "cell_type": "markdown",
   "metadata": {},
   "source": [
    "## Age Demographics"
   ]
  },
  {
   "cell_type": "markdown",
   "metadata": {},
   "source": [
    "* Establish bins for ages\n",
    "\n",
    "\n",
    "* Categorize the existing players using the age bins. Hint: use pd.cut()\n",
    "\n",
    "\n",
    "* Calculate the numbers and percentages by age group\n",
    "\n",
    "\n",
    "* Create a summary data frame to hold the results\n",
    "\n",
    "\n",
    "* Optional: round the percentage column to two decimal points\n",
    "\n",
    "\n",
    "* Display Age Demographics Table\n"
   ]
  },
  {
   "cell_type": "code",
   "execution_count": 242,
   "metadata": {},
   "outputs": [],
   "source": [
    "# binning\n",
    "bins = [0, 9, 14, 19, 24, 29, 34, 39, 99]\n",
    "group_names = [\"<10\", \"10-14\", \"15-19\", \"20-24\", \"25-29\", \"30-34\", \"35-39\", \"40+\"]"
   ]
  },
  {
   "cell_type": "code",
   "execution_count": 243,
   "metadata": {},
   "outputs": [],
   "source": [
    "purchase_data[\"Age Groups\"] = pd.cut(purchase_data[\"Age\"] ,bins , labels=group_names)\n",
    "age_group = purchase_data.groupby(\"Age Groups\")\n",
    "total_count_age = age_grouped[\"SN\"].nunique()"
   ]
  },
  {
   "cell_type": "code",
   "execution_count": 244,
   "metadata": {},
   "outputs": [],
   "source": [
    "age_percentage = (total_count_age/player_count_final) * 100"
   ]
  },
  {
   "cell_type": "code",
   "execution_count": 245,
   "metadata": {},
   "outputs": [
    {
     "data": {
      "text/html": [
       "<style  type=\"text/css\" >\n",
       "</style><table id=\"T_5807a7ec_e31a_11e9_82f9_c42c032f5eca\" ><thead>    <tr>        <th class=\"blank level0\" ></th>        <th class=\"col_heading level0 col0\" >Percentage of Players</th>        <th class=\"col_heading level0 col1\" >Total Count</th>    </tr></thead><tbody>\n",
       "                <tr>\n",
       "                        <th id=\"T_5807a7ec_e31a_11e9_82f9_c42c032f5ecalevel0_row0\" class=\"row_heading level0 row0\" ><10</th>\n",
       "                        <td id=\"T_5807a7ec_e31a_11e9_82f9_c42c032f5ecarow0_col0\" class=\"data row0 col0\" >2.95</td>\n",
       "                        <td id=\"T_5807a7ec_e31a_11e9_82f9_c42c032f5ecarow0_col1\" class=\"data row0 col1\" >17</td>\n",
       "            </tr>\n",
       "            <tr>\n",
       "                        <th id=\"T_5807a7ec_e31a_11e9_82f9_c42c032f5ecalevel0_row1\" class=\"row_heading level0 row1\" >10-14</th>\n",
       "                        <td id=\"T_5807a7ec_e31a_11e9_82f9_c42c032f5ecarow1_col0\" class=\"data row1 col0\" >3.82</td>\n",
       "                        <td id=\"T_5807a7ec_e31a_11e9_82f9_c42c032f5ecarow1_col1\" class=\"data row1 col1\" >22</td>\n",
       "            </tr>\n",
       "            <tr>\n",
       "                        <th id=\"T_5807a7ec_e31a_11e9_82f9_c42c032f5ecalevel0_row2\" class=\"row_heading level0 row2\" >15-19</th>\n",
       "                        <td id=\"T_5807a7ec_e31a_11e9_82f9_c42c032f5ecarow2_col0\" class=\"data row2 col0\" >18.58</td>\n",
       "                        <td id=\"T_5807a7ec_e31a_11e9_82f9_c42c032f5ecarow2_col1\" class=\"data row2 col1\" >107</td>\n",
       "            </tr>\n",
       "            <tr>\n",
       "                        <th id=\"T_5807a7ec_e31a_11e9_82f9_c42c032f5ecalevel0_row3\" class=\"row_heading level0 row3\" >20-24</th>\n",
       "                        <td id=\"T_5807a7ec_e31a_11e9_82f9_c42c032f5ecarow3_col0\" class=\"data row3 col0\" >44.79</td>\n",
       "                        <td id=\"T_5807a7ec_e31a_11e9_82f9_c42c032f5ecarow3_col1\" class=\"data row3 col1\" >258</td>\n",
       "            </tr>\n",
       "            <tr>\n",
       "                        <th id=\"T_5807a7ec_e31a_11e9_82f9_c42c032f5ecalevel0_row4\" class=\"row_heading level0 row4\" >25-29</th>\n",
       "                        <td id=\"T_5807a7ec_e31a_11e9_82f9_c42c032f5ecarow4_col0\" class=\"data row4 col0\" >13.37</td>\n",
       "                        <td id=\"T_5807a7ec_e31a_11e9_82f9_c42c032f5ecarow4_col1\" class=\"data row4 col1\" >77</td>\n",
       "            </tr>\n",
       "            <tr>\n",
       "                        <th id=\"T_5807a7ec_e31a_11e9_82f9_c42c032f5ecalevel0_row5\" class=\"row_heading level0 row5\" >30-34</th>\n",
       "                        <td id=\"T_5807a7ec_e31a_11e9_82f9_c42c032f5ecarow5_col0\" class=\"data row5 col0\" >9.03</td>\n",
       "                        <td id=\"T_5807a7ec_e31a_11e9_82f9_c42c032f5ecarow5_col1\" class=\"data row5 col1\" >52</td>\n",
       "            </tr>\n",
       "            <tr>\n",
       "                        <th id=\"T_5807a7ec_e31a_11e9_82f9_c42c032f5ecalevel0_row6\" class=\"row_heading level0 row6\" >35-39</th>\n",
       "                        <td id=\"T_5807a7ec_e31a_11e9_82f9_c42c032f5ecarow6_col0\" class=\"data row6 col0\" >5.38</td>\n",
       "                        <td id=\"T_5807a7ec_e31a_11e9_82f9_c42c032f5ecarow6_col1\" class=\"data row6 col1\" >31</td>\n",
       "            </tr>\n",
       "            <tr>\n",
       "                        <th id=\"T_5807a7ec_e31a_11e9_82f9_c42c032f5ecalevel0_row7\" class=\"row_heading level0 row7\" >40+</th>\n",
       "                        <td id=\"T_5807a7ec_e31a_11e9_82f9_c42c032f5ecarow7_col0\" class=\"data row7 col0\" >2.08</td>\n",
       "                        <td id=\"T_5807a7ec_e31a_11e9_82f9_c42c032f5ecarow7_col1\" class=\"data row7 col1\" >12</td>\n",
       "            </tr>\n",
       "    </tbody></table>"
      ],
      "text/plain": [
       "<pandas.io.formats.style.Styler at 0x118342710>"
      ]
     },
     "execution_count": 245,
     "metadata": {},
     "output_type": "execute_result"
    }
   ],
   "source": [
    "age_demo_df = pd.DataFrame({\"Percentage of Players\": age_percentage, \n",
    "                                 \"Total Count\": total_count_age\n",
    "                            })\n",
    "age_demo_df.index.name = None\n",
    "age_demo_df.style.format({\"Percentage of Players\":\"{:,.2f}\"})"
   ]
  },
  {
   "cell_type": "markdown",
   "metadata": {},
   "source": [
    "## Purchasing Analysis (Age)"
   ]
  },
  {
   "cell_type": "markdown",
   "metadata": {},
   "source": [
    "* Bin the purchase_data data frame by age\n",
    "\n",
    "\n",
    "* Run basic calculations to obtain purchase count, avg. purchase price, avg. purchase total per person etc. in the table below\n",
    "\n",
    "\n",
    "* Create a summary data frame to hold the results\n",
    "\n",
    "\n",
    "* Optional: give the displayed data cleaner formatting\n",
    "\n",
    "\n",
    "* Display the summary data frame"
   ]
  },
  {
   "cell_type": "code",
   "execution_count": 246,
   "metadata": {},
   "outputs": [],
   "source": [
    "purchase_age = age_group[\"Purchase ID\"].count()\n",
    "avg_purchase_price_age = age_group[\"Price\"].mean()\n",
    "total_purchase_value = age_group[\"Price\"].sum()\n",
    "avg_purchase_per_person_age = total_purchase_value/total_count_age"
   ]
  },
  {
   "cell_type": "code",
   "execution_count": 247,
   "metadata": {},
   "outputs": [],
   "source": [
    "age_demo_df2 = pd.DataFrame({\"Purchase Count\": purchase_age,\n",
    "                                 \"Average Purchase Price\": avg_purchase_price_age,\n",
    "                                 \"Total Purchase Value\":total_purchase_value,\n",
    "                                 \"Average Purchase Total per Person\": avg_purchase_per_person_age\n",
    "                            })"
   ]
  },
  {
   "cell_type": "code",
   "execution_count": 248,
   "metadata": {},
   "outputs": [],
   "source": [
    "age_demo_df2.index.name = None"
   ]
  },
  {
   "cell_type": "code",
   "execution_count": 249,
   "metadata": {},
   "outputs": [
    {
     "data": {
      "text/html": [
       "<style  type=\"text/css\" >\n",
       "</style><table id=\"T_58f4a042_e31a_11e9_82f9_c42c032f5eca\" ><thead>    <tr>        <th class=\"blank level0\" ></th>        <th class=\"col_heading level0 col0\" >Purchase Count</th>        <th class=\"col_heading level0 col1\" >Average Purchase Price</th>        <th class=\"col_heading level0 col2\" >Total Purchase Value</th>        <th class=\"col_heading level0 col3\" >Average Purchase Total per Person</th>    </tr></thead><tbody>\n",
       "                <tr>\n",
       "                        <th id=\"T_58f4a042_e31a_11e9_82f9_c42c032f5ecalevel0_row0\" class=\"row_heading level0 row0\" ><10</th>\n",
       "                        <td id=\"T_58f4a042_e31a_11e9_82f9_c42c032f5ecarow0_col0\" class=\"data row0 col0\" >23</td>\n",
       "                        <td id=\"T_58f4a042_e31a_11e9_82f9_c42c032f5ecarow0_col1\" class=\"data row0 col1\" >$3.35</td>\n",
       "                        <td id=\"T_58f4a042_e31a_11e9_82f9_c42c032f5ecarow0_col2\" class=\"data row0 col2\" >$77.13</td>\n",
       "                        <td id=\"T_58f4a042_e31a_11e9_82f9_c42c032f5ecarow0_col3\" class=\"data row0 col3\" >$4.54</td>\n",
       "            </tr>\n",
       "            <tr>\n",
       "                        <th id=\"T_58f4a042_e31a_11e9_82f9_c42c032f5ecalevel0_row1\" class=\"row_heading level0 row1\" >10-14</th>\n",
       "                        <td id=\"T_58f4a042_e31a_11e9_82f9_c42c032f5ecarow1_col0\" class=\"data row1 col0\" >28</td>\n",
       "                        <td id=\"T_58f4a042_e31a_11e9_82f9_c42c032f5ecarow1_col1\" class=\"data row1 col1\" >$2.96</td>\n",
       "                        <td id=\"T_58f4a042_e31a_11e9_82f9_c42c032f5ecarow1_col2\" class=\"data row1 col2\" >$82.78</td>\n",
       "                        <td id=\"T_58f4a042_e31a_11e9_82f9_c42c032f5ecarow1_col3\" class=\"data row1 col3\" >$3.76</td>\n",
       "            </tr>\n",
       "            <tr>\n",
       "                        <th id=\"T_58f4a042_e31a_11e9_82f9_c42c032f5ecalevel0_row2\" class=\"row_heading level0 row2\" >15-19</th>\n",
       "                        <td id=\"T_58f4a042_e31a_11e9_82f9_c42c032f5ecarow2_col0\" class=\"data row2 col0\" >136</td>\n",
       "                        <td id=\"T_58f4a042_e31a_11e9_82f9_c42c032f5ecarow2_col1\" class=\"data row2 col1\" >$3.04</td>\n",
       "                        <td id=\"T_58f4a042_e31a_11e9_82f9_c42c032f5ecarow2_col2\" class=\"data row2 col2\" >$412.89</td>\n",
       "                        <td id=\"T_58f4a042_e31a_11e9_82f9_c42c032f5ecarow2_col3\" class=\"data row2 col3\" >$3.86</td>\n",
       "            </tr>\n",
       "            <tr>\n",
       "                        <th id=\"T_58f4a042_e31a_11e9_82f9_c42c032f5ecalevel0_row3\" class=\"row_heading level0 row3\" >20-24</th>\n",
       "                        <td id=\"T_58f4a042_e31a_11e9_82f9_c42c032f5ecarow3_col0\" class=\"data row3 col0\" >365</td>\n",
       "                        <td id=\"T_58f4a042_e31a_11e9_82f9_c42c032f5ecarow3_col1\" class=\"data row3 col1\" >$3.05</td>\n",
       "                        <td id=\"T_58f4a042_e31a_11e9_82f9_c42c032f5ecarow3_col2\" class=\"data row3 col2\" >$1,114.06</td>\n",
       "                        <td id=\"T_58f4a042_e31a_11e9_82f9_c42c032f5ecarow3_col3\" class=\"data row3 col3\" >$4.32</td>\n",
       "            </tr>\n",
       "            <tr>\n",
       "                        <th id=\"T_58f4a042_e31a_11e9_82f9_c42c032f5ecalevel0_row4\" class=\"row_heading level0 row4\" >25-29</th>\n",
       "                        <td id=\"T_58f4a042_e31a_11e9_82f9_c42c032f5ecarow4_col0\" class=\"data row4 col0\" >101</td>\n",
       "                        <td id=\"T_58f4a042_e31a_11e9_82f9_c42c032f5ecarow4_col1\" class=\"data row4 col1\" >$2.90</td>\n",
       "                        <td id=\"T_58f4a042_e31a_11e9_82f9_c42c032f5ecarow4_col2\" class=\"data row4 col2\" >$293.00</td>\n",
       "                        <td id=\"T_58f4a042_e31a_11e9_82f9_c42c032f5ecarow4_col3\" class=\"data row4 col3\" >$3.81</td>\n",
       "            </tr>\n",
       "            <tr>\n",
       "                        <th id=\"T_58f4a042_e31a_11e9_82f9_c42c032f5ecalevel0_row5\" class=\"row_heading level0 row5\" >30-34</th>\n",
       "                        <td id=\"T_58f4a042_e31a_11e9_82f9_c42c032f5ecarow5_col0\" class=\"data row5 col0\" >73</td>\n",
       "                        <td id=\"T_58f4a042_e31a_11e9_82f9_c42c032f5ecarow5_col1\" class=\"data row5 col1\" >$2.93</td>\n",
       "                        <td id=\"T_58f4a042_e31a_11e9_82f9_c42c032f5ecarow5_col2\" class=\"data row5 col2\" >$214.00</td>\n",
       "                        <td id=\"T_58f4a042_e31a_11e9_82f9_c42c032f5ecarow5_col3\" class=\"data row5 col3\" >$4.12</td>\n",
       "            </tr>\n",
       "            <tr>\n",
       "                        <th id=\"T_58f4a042_e31a_11e9_82f9_c42c032f5ecalevel0_row6\" class=\"row_heading level0 row6\" >35-39</th>\n",
       "                        <td id=\"T_58f4a042_e31a_11e9_82f9_c42c032f5ecarow6_col0\" class=\"data row6 col0\" >41</td>\n",
       "                        <td id=\"T_58f4a042_e31a_11e9_82f9_c42c032f5ecarow6_col1\" class=\"data row6 col1\" >$3.60</td>\n",
       "                        <td id=\"T_58f4a042_e31a_11e9_82f9_c42c032f5ecarow6_col2\" class=\"data row6 col2\" >$147.67</td>\n",
       "                        <td id=\"T_58f4a042_e31a_11e9_82f9_c42c032f5ecarow6_col3\" class=\"data row6 col3\" >$4.76</td>\n",
       "            </tr>\n",
       "            <tr>\n",
       "                        <th id=\"T_58f4a042_e31a_11e9_82f9_c42c032f5ecalevel0_row7\" class=\"row_heading level0 row7\" >40+</th>\n",
       "                        <td id=\"T_58f4a042_e31a_11e9_82f9_c42c032f5ecarow7_col0\" class=\"data row7 col0\" >13</td>\n",
       "                        <td id=\"T_58f4a042_e31a_11e9_82f9_c42c032f5ecarow7_col1\" class=\"data row7 col1\" >$2.94</td>\n",
       "                        <td id=\"T_58f4a042_e31a_11e9_82f9_c42c032f5ecarow7_col2\" class=\"data row7 col2\" >$38.24</td>\n",
       "                        <td id=\"T_58f4a042_e31a_11e9_82f9_c42c032f5ecarow7_col3\" class=\"data row7 col3\" >$3.19</td>\n",
       "            </tr>\n",
       "    </tbody></table>"
      ],
      "text/plain": [
       "<pandas.io.formats.style.Styler at 0x1183512b0>"
      ]
     },
     "execution_count": 249,
     "metadata": {},
     "output_type": "execute_result"
    }
   ],
   "source": [
    "age_demo_df2.style.format({\"Average Purchase Price\":\"${:,.2f}\",\n",
    "                               \"Total Purchase Value\":\"${:,.2f}\",\n",
    "                               \"Average Purchase Total per Person\":\"${:,.2f}\"\n",
    "                          })"
   ]
  },
  {
   "cell_type": "markdown",
   "metadata": {},
   "source": [
    "## Top Spenders"
   ]
  },
  {
   "cell_type": "markdown",
   "metadata": {},
   "source": [
    "* Run basic calculations to obtain the results in the table below\n",
    "\n",
    "\n",
    "* Create a summary data frame to hold the results\n",
    "\n",
    "\n",
    "* Sort the total purchase value column in descending order\n",
    "\n",
    "\n",
    "* Optional: give the displayed data cleaner formatting\n",
    "\n",
    "\n",
    "* Display a preview of the summary data frame\n",
    "\n"
   ]
  },
  {
   "cell_type": "code",
   "execution_count": 250,
   "metadata": {},
   "outputs": [],
   "source": [
    "# groupby SN, display top 5 \n",
    "spender_numbers = purchase_data.groupby(\"SN\")\n",
    "purchase_count_spender = spender_numbers[\"Purchase ID\"].count()\n",
    "avg_purchase_price_spender = spender_numbers[\"Price\"].mean()\n",
    "purchase_total_spender = spender_numbers[\"Price\"].sum()"
   ]
  },
  {
   "cell_type": "code",
   "execution_count": 251,
   "metadata": {},
   "outputs": [],
   "source": [
    "top_spenders = pd.DataFrame({\"Purchase Count\": purchase_count_spender,\n",
    "                             \"Average Purchase Price\": avg_purchase_price_spender,\n",
    "                             \"Total Purchase Value\":purchase_total_spender})"
   ]
  },
  {
   "cell_type": "code",
   "execution_count": 252,
   "metadata": {},
   "outputs": [],
   "source": [
    "spenders_formatted = top_spenders.sort_values([\"Total Purchase Value\"], ascending=False).head()"
   ]
  },
  {
   "cell_type": "code",
   "execution_count": 253,
   "metadata": {},
   "outputs": [
    {
     "data": {
      "text/html": [
       "<style  type=\"text/css\" >\n",
       "</style><table id=\"T_5a11fed4_e31a_11e9_82f9_c42c032f5eca\" ><thead>    <tr>        <th class=\"blank level0\" ></th>        <th class=\"col_heading level0 col0\" >Purchase Count</th>        <th class=\"col_heading level0 col1\" >Average Purchase Price</th>        <th class=\"col_heading level0 col2\" >Total Purchase Value</th>    </tr>    <tr>        <th class=\"index_name level0\" >SN</th>        <th class=\"blank\" ></th>        <th class=\"blank\" ></th>        <th class=\"blank\" ></th>    </tr></thead><tbody>\n",
       "                <tr>\n",
       "                        <th id=\"T_5a11fed4_e31a_11e9_82f9_c42c032f5ecalevel0_row0\" class=\"row_heading level0 row0\" >Lisosia93</th>\n",
       "                        <td id=\"T_5a11fed4_e31a_11e9_82f9_c42c032f5ecarow0_col0\" class=\"data row0 col0\" >5</td>\n",
       "                        <td id=\"T_5a11fed4_e31a_11e9_82f9_c42c032f5ecarow0_col1\" class=\"data row0 col1\" >$3.79</td>\n",
       "                        <td id=\"T_5a11fed4_e31a_11e9_82f9_c42c032f5ecarow0_col2\" class=\"data row0 col2\" >$18.96</td>\n",
       "            </tr>\n",
       "            <tr>\n",
       "                        <th id=\"T_5a11fed4_e31a_11e9_82f9_c42c032f5ecalevel0_row1\" class=\"row_heading level0 row1\" >Idastidru52</th>\n",
       "                        <td id=\"T_5a11fed4_e31a_11e9_82f9_c42c032f5ecarow1_col0\" class=\"data row1 col0\" >4</td>\n",
       "                        <td id=\"T_5a11fed4_e31a_11e9_82f9_c42c032f5ecarow1_col1\" class=\"data row1 col1\" >$3.86</td>\n",
       "                        <td id=\"T_5a11fed4_e31a_11e9_82f9_c42c032f5ecarow1_col2\" class=\"data row1 col2\" >$15.45</td>\n",
       "            </tr>\n",
       "            <tr>\n",
       "                        <th id=\"T_5a11fed4_e31a_11e9_82f9_c42c032f5ecalevel0_row2\" class=\"row_heading level0 row2\" >Chamjask73</th>\n",
       "                        <td id=\"T_5a11fed4_e31a_11e9_82f9_c42c032f5ecarow2_col0\" class=\"data row2 col0\" >3</td>\n",
       "                        <td id=\"T_5a11fed4_e31a_11e9_82f9_c42c032f5ecarow2_col1\" class=\"data row2 col1\" >$4.61</td>\n",
       "                        <td id=\"T_5a11fed4_e31a_11e9_82f9_c42c032f5ecarow2_col2\" class=\"data row2 col2\" >$13.83</td>\n",
       "            </tr>\n",
       "            <tr>\n",
       "                        <th id=\"T_5a11fed4_e31a_11e9_82f9_c42c032f5ecalevel0_row3\" class=\"row_heading level0 row3\" >Iral74</th>\n",
       "                        <td id=\"T_5a11fed4_e31a_11e9_82f9_c42c032f5ecarow3_col0\" class=\"data row3 col0\" >4</td>\n",
       "                        <td id=\"T_5a11fed4_e31a_11e9_82f9_c42c032f5ecarow3_col1\" class=\"data row3 col1\" >$3.40</td>\n",
       "                        <td id=\"T_5a11fed4_e31a_11e9_82f9_c42c032f5ecarow3_col2\" class=\"data row3 col2\" >$13.62</td>\n",
       "            </tr>\n",
       "            <tr>\n",
       "                        <th id=\"T_5a11fed4_e31a_11e9_82f9_c42c032f5ecalevel0_row4\" class=\"row_heading level0 row4\" >Iskadarya95</th>\n",
       "                        <td id=\"T_5a11fed4_e31a_11e9_82f9_c42c032f5ecarow4_col0\" class=\"data row4 col0\" >3</td>\n",
       "                        <td id=\"T_5a11fed4_e31a_11e9_82f9_c42c032f5ecarow4_col1\" class=\"data row4 col1\" >$4.37</td>\n",
       "                        <td id=\"T_5a11fed4_e31a_11e9_82f9_c42c032f5ecarow4_col2\" class=\"data row4 col2\" >$13.10</td>\n",
       "            </tr>\n",
       "    </tbody></table>"
      ],
      "text/plain": [
       "<pandas.io.formats.style.Styler at 0x11833a898>"
      ]
     },
     "execution_count": 253,
     "metadata": {},
     "output_type": "execute_result"
    }
   ],
   "source": [
    "spenders_formatted.style.format({\"Average Purchase Total\":\"${:,.2f}\",\n",
    "                                 \"Average Purchase Price\":\"${:,.2f}\", \n",
    "                                 \"Total Purchase Value\":\"${:,.2f}\"\n",
    "                                })"
   ]
  },
  {
   "cell_type": "markdown",
   "metadata": {},
   "source": [
    "## Most Popular Items"
   ]
  },
  {
   "cell_type": "markdown",
   "metadata": {},
   "source": [
    "* Retrieve the Item ID, Item Name, and Item Price columns\n",
    "\n",
    "\n",
    "* Group by Item ID and Item Name. Perform calculations to obtain purchase count, item price, and total purchase value\n",
    "\n",
    "\n",
    "* Create a summary data frame to hold the results\n",
    "\n",
    "\n",
    "* Sort the purchase count column in descending order\n",
    "\n",
    "\n",
    "* Optional: give the displayed data cleaner formatting\n",
    "\n",
    "\n",
    "* Display a preview of the summary data frame\n",
    "\n"
   ]
  },
  {
   "cell_type": "code",
   "execution_count": 259,
   "metadata": {},
   "outputs": [],
   "source": [
    "items = purchase_data[[\"Item ID\", \"Item Name\", \"Price\"]]\n",
    "item_numbers = items.groupby([\"Item ID\",\"Item Name\"])"
   ]
  },
  {
   "cell_type": "code",
   "execution_count": 260,
   "metadata": {},
   "outputs": [],
   "source": [
    "purchases_item = item_numbers[\"Price\"].count()\n",
    "purchase_value = (item_numbers[\"Price\"].sum()) \n",
    "item_price = purchase_value/purchases_item"
   ]
  },
  {
   "cell_type": "code",
   "execution_count": 262,
   "metadata": {},
   "outputs": [],
   "source": [
    "most_popular_items = pd.DataFrame({\"Purchase Count\": purchases_item, \n",
    "                                   \"Item Price\": item_price,\n",
    "                                   \"Total Purchase Value\":purchase_value})"
   ]
  },
  {
   "cell_type": "code",
   "execution_count": 263,
   "metadata": {},
   "outputs": [],
   "source": [
    "popular_formatted = most_popular_items.sort_values([\"Purchase Count\"], ascending=False).head()"
   ]
  },
  {
   "cell_type": "code",
   "execution_count": 264,
   "metadata": {},
   "outputs": [
    {
     "data": {
      "text/html": [
       "<style  type=\"text/css\" >\n",
       "</style><table id=\"T_e2fb8c56_e31a_11e9_82f9_c42c032f5eca\" ><thead>    <tr>        <th class=\"blank\" ></th>        <th class=\"blank level0\" ></th>        <th class=\"col_heading level0 col0\" >Purchase Count</th>        <th class=\"col_heading level0 col1\" >Item Price</th>        <th class=\"col_heading level0 col2\" >Total Purchase Value</th>    </tr>    <tr>        <th class=\"index_name level0\" >Item ID</th>        <th class=\"index_name level1\" >Item Name</th>        <th class=\"blank\" ></th>        <th class=\"blank\" ></th>        <th class=\"blank\" ></th>    </tr></thead><tbody>\n",
       "                <tr>\n",
       "                        <th id=\"T_e2fb8c56_e31a_11e9_82f9_c42c032f5ecalevel0_row0\" class=\"row_heading level0 row0\" >178</th>\n",
       "                        <th id=\"T_e2fb8c56_e31a_11e9_82f9_c42c032f5ecalevel1_row0\" class=\"row_heading level1 row0\" >Oathbreaker, Last Hope of the Breaking Storm</th>\n",
       "                        <td id=\"T_e2fb8c56_e31a_11e9_82f9_c42c032f5ecarow0_col0\" class=\"data row0 col0\" >12</td>\n",
       "                        <td id=\"T_e2fb8c56_e31a_11e9_82f9_c42c032f5ecarow0_col1\" class=\"data row0 col1\" >$4.23</td>\n",
       "                        <td id=\"T_e2fb8c56_e31a_11e9_82f9_c42c032f5ecarow0_col2\" class=\"data row0 col2\" >$50.76</td>\n",
       "            </tr>\n",
       "            <tr>\n",
       "                        <th id=\"T_e2fb8c56_e31a_11e9_82f9_c42c032f5ecalevel0_row1\" class=\"row_heading level0 row1\" >145</th>\n",
       "                        <th id=\"T_e2fb8c56_e31a_11e9_82f9_c42c032f5ecalevel1_row1\" class=\"row_heading level1 row1\" >Fiery Glass Crusader</th>\n",
       "                        <td id=\"T_e2fb8c56_e31a_11e9_82f9_c42c032f5ecarow1_col0\" class=\"data row1 col0\" >9</td>\n",
       "                        <td id=\"T_e2fb8c56_e31a_11e9_82f9_c42c032f5ecarow1_col1\" class=\"data row1 col1\" >$4.58</td>\n",
       "                        <td id=\"T_e2fb8c56_e31a_11e9_82f9_c42c032f5ecarow1_col2\" class=\"data row1 col2\" >$41.22</td>\n",
       "            </tr>\n",
       "            <tr>\n",
       "                        <th id=\"T_e2fb8c56_e31a_11e9_82f9_c42c032f5ecalevel0_row2\" class=\"row_heading level0 row2\" >108</th>\n",
       "                        <th id=\"T_e2fb8c56_e31a_11e9_82f9_c42c032f5ecalevel1_row2\" class=\"row_heading level1 row2\" >Extraction, Quickblade Of Trembling Hands</th>\n",
       "                        <td id=\"T_e2fb8c56_e31a_11e9_82f9_c42c032f5ecarow2_col0\" class=\"data row2 col0\" >9</td>\n",
       "                        <td id=\"T_e2fb8c56_e31a_11e9_82f9_c42c032f5ecarow2_col1\" class=\"data row2 col1\" >$3.53</td>\n",
       "                        <td id=\"T_e2fb8c56_e31a_11e9_82f9_c42c032f5ecarow2_col2\" class=\"data row2 col2\" >$31.77</td>\n",
       "            </tr>\n",
       "            <tr>\n",
       "                        <th id=\"T_e2fb8c56_e31a_11e9_82f9_c42c032f5ecalevel0_row3\" class=\"row_heading level0 row3\" >82</th>\n",
       "                        <th id=\"T_e2fb8c56_e31a_11e9_82f9_c42c032f5ecalevel1_row3\" class=\"row_heading level1 row3\" >Nirvana</th>\n",
       "                        <td id=\"T_e2fb8c56_e31a_11e9_82f9_c42c032f5ecarow3_col0\" class=\"data row3 col0\" >9</td>\n",
       "                        <td id=\"T_e2fb8c56_e31a_11e9_82f9_c42c032f5ecarow3_col1\" class=\"data row3 col1\" >$4.90</td>\n",
       "                        <td id=\"T_e2fb8c56_e31a_11e9_82f9_c42c032f5ecarow3_col2\" class=\"data row3 col2\" >$44.10</td>\n",
       "            </tr>\n",
       "            <tr>\n",
       "                        <th id=\"T_e2fb8c56_e31a_11e9_82f9_c42c032f5ecalevel0_row4\" class=\"row_heading level0 row4\" >19</th>\n",
       "                        <th id=\"T_e2fb8c56_e31a_11e9_82f9_c42c032f5ecalevel1_row4\" class=\"row_heading level1 row4\" >Pursuit, Cudgel of Necromancy</th>\n",
       "                        <td id=\"T_e2fb8c56_e31a_11e9_82f9_c42c032f5ecarow4_col0\" class=\"data row4 col0\" >8</td>\n",
       "                        <td id=\"T_e2fb8c56_e31a_11e9_82f9_c42c032f5ecarow4_col1\" class=\"data row4 col1\" >$1.02</td>\n",
       "                        <td id=\"T_e2fb8c56_e31a_11e9_82f9_c42c032f5ecarow4_col2\" class=\"data row4 col2\" >$8.16</td>\n",
       "            </tr>\n",
       "    </tbody></table>"
      ],
      "text/plain": [
       "<pandas.io.formats.style.Styler at 0x118365588>"
      ]
     },
     "execution_count": 264,
     "metadata": {},
     "output_type": "execute_result"
    }
   ],
   "source": [
    "popular_formatted.style.format({\"Item Price\":\"${:,.2f}\",\n",
    "                                \"Total Purchase Value\":\"${:,.2f}\"})"
   ]
  },
  {
   "cell_type": "markdown",
   "metadata": {},
   "source": [
    "## Most Profitable Items"
   ]
  },
  {
   "cell_type": "markdown",
   "metadata": {},
   "source": [
    "* Sort the above table by total purchase value in descending order\n",
    "\n",
    "\n",
    "* Optional: give the displayed data cleaner formatting\n",
    "\n",
    "\n",
    "* Display a preview of the data frame\n",
    "\n"
   ]
  },
  {
   "cell_type": "code",
   "execution_count": 265,
   "metadata": {
    "scrolled": true
   },
   "outputs": [],
   "source": [
    "popular_formatted = most_popular_items.sort_values([\"Total Purchase Value\"], ascending=False).head()"
   ]
  },
  {
   "cell_type": "code",
   "execution_count": 266,
   "metadata": {},
   "outputs": [
    {
     "data": {
      "text/html": [
       "<style  type=\"text/css\" >\n",
       "</style><table id=\"T_e5bd68ec_e31a_11e9_82f9_c42c032f5eca\" ><thead>    <tr>        <th class=\"blank\" ></th>        <th class=\"blank level0\" ></th>        <th class=\"col_heading level0 col0\" >Purchase Count</th>        <th class=\"col_heading level0 col1\" >Item Price</th>        <th class=\"col_heading level0 col2\" >Total Purchase Value</th>    </tr>    <tr>        <th class=\"index_name level0\" >Item ID</th>        <th class=\"index_name level1\" >Item Name</th>        <th class=\"blank\" ></th>        <th class=\"blank\" ></th>        <th class=\"blank\" ></th>    </tr></thead><tbody>\n",
       "                <tr>\n",
       "                        <th id=\"T_e5bd68ec_e31a_11e9_82f9_c42c032f5ecalevel0_row0\" class=\"row_heading level0 row0\" >178</th>\n",
       "                        <th id=\"T_e5bd68ec_e31a_11e9_82f9_c42c032f5ecalevel1_row0\" class=\"row_heading level1 row0\" >Oathbreaker, Last Hope of the Breaking Storm</th>\n",
       "                        <td id=\"T_e5bd68ec_e31a_11e9_82f9_c42c032f5ecarow0_col0\" class=\"data row0 col0\" >12</td>\n",
       "                        <td id=\"T_e5bd68ec_e31a_11e9_82f9_c42c032f5ecarow0_col1\" class=\"data row0 col1\" >$4.23</td>\n",
       "                        <td id=\"T_e5bd68ec_e31a_11e9_82f9_c42c032f5ecarow0_col2\" class=\"data row0 col2\" >$50.76</td>\n",
       "            </tr>\n",
       "            <tr>\n",
       "                        <th id=\"T_e5bd68ec_e31a_11e9_82f9_c42c032f5ecalevel0_row1\" class=\"row_heading level0 row1\" >82</th>\n",
       "                        <th id=\"T_e5bd68ec_e31a_11e9_82f9_c42c032f5ecalevel1_row1\" class=\"row_heading level1 row1\" >Nirvana</th>\n",
       "                        <td id=\"T_e5bd68ec_e31a_11e9_82f9_c42c032f5ecarow1_col0\" class=\"data row1 col0\" >9</td>\n",
       "                        <td id=\"T_e5bd68ec_e31a_11e9_82f9_c42c032f5ecarow1_col1\" class=\"data row1 col1\" >$4.90</td>\n",
       "                        <td id=\"T_e5bd68ec_e31a_11e9_82f9_c42c032f5ecarow1_col2\" class=\"data row1 col2\" >$44.10</td>\n",
       "            </tr>\n",
       "            <tr>\n",
       "                        <th id=\"T_e5bd68ec_e31a_11e9_82f9_c42c032f5ecalevel0_row2\" class=\"row_heading level0 row2\" >145</th>\n",
       "                        <th id=\"T_e5bd68ec_e31a_11e9_82f9_c42c032f5ecalevel1_row2\" class=\"row_heading level1 row2\" >Fiery Glass Crusader</th>\n",
       "                        <td id=\"T_e5bd68ec_e31a_11e9_82f9_c42c032f5ecarow2_col0\" class=\"data row2 col0\" >9</td>\n",
       "                        <td id=\"T_e5bd68ec_e31a_11e9_82f9_c42c032f5ecarow2_col1\" class=\"data row2 col1\" >$4.58</td>\n",
       "                        <td id=\"T_e5bd68ec_e31a_11e9_82f9_c42c032f5ecarow2_col2\" class=\"data row2 col2\" >$41.22</td>\n",
       "            </tr>\n",
       "            <tr>\n",
       "                        <th id=\"T_e5bd68ec_e31a_11e9_82f9_c42c032f5ecalevel0_row3\" class=\"row_heading level0 row3\" >92</th>\n",
       "                        <th id=\"T_e5bd68ec_e31a_11e9_82f9_c42c032f5ecalevel1_row3\" class=\"row_heading level1 row3\" >Final Critic</th>\n",
       "                        <td id=\"T_e5bd68ec_e31a_11e9_82f9_c42c032f5ecarow3_col0\" class=\"data row3 col0\" >8</td>\n",
       "                        <td id=\"T_e5bd68ec_e31a_11e9_82f9_c42c032f5ecarow3_col1\" class=\"data row3 col1\" >$4.88</td>\n",
       "                        <td id=\"T_e5bd68ec_e31a_11e9_82f9_c42c032f5ecarow3_col2\" class=\"data row3 col2\" >$39.04</td>\n",
       "            </tr>\n",
       "            <tr>\n",
       "                        <th id=\"T_e5bd68ec_e31a_11e9_82f9_c42c032f5ecalevel0_row4\" class=\"row_heading level0 row4\" >103</th>\n",
       "                        <th id=\"T_e5bd68ec_e31a_11e9_82f9_c42c032f5ecalevel1_row4\" class=\"row_heading level1 row4\" >Singed Scalpel</th>\n",
       "                        <td id=\"T_e5bd68ec_e31a_11e9_82f9_c42c032f5ecarow4_col0\" class=\"data row4 col0\" >8</td>\n",
       "                        <td id=\"T_e5bd68ec_e31a_11e9_82f9_c42c032f5ecarow4_col1\" class=\"data row4 col1\" >$4.35</td>\n",
       "                        <td id=\"T_e5bd68ec_e31a_11e9_82f9_c42c032f5ecarow4_col2\" class=\"data row4 col2\" >$34.80</td>\n",
       "            </tr>\n",
       "    </tbody></table>"
      ],
      "text/plain": [
       "<pandas.io.formats.style.Styler at 0x11833aef0>"
      ]
     },
     "execution_count": 266,
     "metadata": {},
     "output_type": "execute_result"
    }
   ],
   "source": [
    "popular_formatted.style.format({\"Item Price\":\"${:,.2f}\",\n",
    "                                \"Total Purchase Value\":\"${:,.2f}\"})"
   ]
  },
  {
   "cell_type": "code",
   "execution_count": null,
   "metadata": {},
   "outputs": [],
   "source": []
  }
 ],
 "metadata": {
  "anaconda-cloud": {},
  "kernel_info": {
   "name": "python3"
  },
  "kernelspec": {
   "display_name": "Python 3",
   "language": "python",
   "name": "python3"
  },
  "language_info": {
   "codemirror_mode": {
    "name": "ipython",
    "version": 3
   },
   "file_extension": ".py",
   "mimetype": "text/x-python",
   "name": "python",
   "nbconvert_exporter": "python",
   "pygments_lexer": "ipython3",
   "version": "3.7.3"
  },
  "latex_envs": {
   "LaTeX_envs_menu_present": true,
   "autoclose": false,
   "autocomplete": true,
   "bibliofile": "biblio.bib",
   "cite_by": "apalike",
   "current_citInitial": 1,
   "eqLabelWithNumbers": true,
   "eqNumInitial": 1,
   "hotkeys": {
    "equation": "Ctrl-E",
    "itemize": "Ctrl-I"
   },
   "labels_anchors": false,
   "latex_user_defs": false,
   "report_style_numbering": false,
   "user_envs_cfg": false
  },
  "nteract": {
   "version": "0.2.0"
  }
 },
 "nbformat": 4,
 "nbformat_minor": 2
}
